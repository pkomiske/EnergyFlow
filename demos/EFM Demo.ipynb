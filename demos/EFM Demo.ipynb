{
 "cells": [
  {
   "cell_type": "markdown",
   "metadata": {},
   "source": [
    "## EFM Demo\n",
    "\n",
    "[EnergyFlow website](https://www.energyflow.network)\n",
    "\n",
    "In this tutorial, we demonstrate how to compute the Energy Flow Moments using the EnergyFlow package. We also demonstrate how to speed up collider observbles and verify all of the linear relations among the EFPs discussed in [1911.04491](https://arxiv.org/abs/1911.04491) that arise in the limit of few particles or spacetime dimensions."
   ]
  },
  {
   "cell_type": "markdown",
   "metadata": {},
   "source": [
    "### Imports"
   ]
  },
  {
   "cell_type": "code",
   "execution_count": 1,
   "metadata": {},
   "outputs": [],
   "source": [
    "import numpy as np\n",
    "import matplotlib.pyplot as plt\n",
    "%matplotlib inline\n",
    "import time\n",
    "\n",
    "import energyflow as ef"
   ]
  },
  {
   "cell_type": "markdown",
   "metadata": {},
   "source": [
    "### Plot Style"
   ]
  },
  {
   "cell_type": "code",
   "execution_count": 2,
   "metadata": {},
   "outputs": [],
   "source": [
    "plt.rcParams['figure.figsize'] = (4,4)\n",
    "plt.rcParams['figure.dpi'] = 120\n",
    "plt.rcParams['text.usetex'] = True\n",
    "plt.rcParams['font.family'] = 'serif'"
   ]
  },
  {
   "cell_type": "markdown",
   "metadata": {},
   "source": [
    "### Energy Flow Moments\n",
    "The Energy Flow Moments (EFMs) were introduced in [1911.04491](https://arxiv.org/abs/1911.04491) as the moments of the radiation pattern. They are fully-symmetric tensors defined as:\n",
    "$$ \\mathcal I^{\\mu_1\\mu_2\\cdots\\mu_v} \\equiv 2^{v/2}\\sum_{i=1}^M E_i n_i^{\\mu_1} n_i^{\\mu_2} \\cdots n_i^{\\mu_v},\\,\\,\\,\\,\\,\\,\\,\\, n_i^\\mu \\equiv p_i^\\mu / E_i$$\n",
    "for an event or jet with $M$ particles.\n",
    "At a hadron collider like the LHC, we use the particle transverse momentum $p_T$ in place of the energy $E$.\n",
    "\n",
    "\n",
    "EFMs provide a $\\mathcal O(M)$ way to compute $\\beta=2$ Energy Flow Polynomials (EFPs) or Energy Correlation Functions (ECFs).\n",
    "For instance, the invariant mass of an event is $\\mathcal O(M^2)$ to compute as an ECF, but can easily be computed in $\\mathcal O(M)$ via:\n",
    "$$ m^2 = \\sum_{i=1}^M \\sum_{j=1}^M p_{i\\mu} p_{i}^{\\mu} = \\left( \\sum_{i=1}^M E_i n_i^\\mu \\right)^2 = \\frac12\\mathcal I_\\mu \\mathcal I^\\mu$$\n",
    "The EFMs provide the natural generalization of this idea to all correlator observables.\n",
    "\n",
    "As a reminder, the EFPs are multiparticle energy correlators with angular monomials specified by multigraphs $G$.\n",
    "They were introduced in [1712.07124](https://arxiv.org/abs/1712.07124) and form a linear basis for all infrared- and collinear-safe (IRC-safe) observables.\n",
    "They are defined as:\n",
    "$$ {\\rm EFP}_G = \\sum_{i_1=1}^M \\sum_{i_2=1}^M \\cdots \\sum_{i_N=1}^M E_{i_1} E_{i_2} \\cdots E_{i_N} \\prod_{(k,\\ell)\\in G} \\theta_{i_k i_\\ell}, $$\n",
    "where $G$ is a multigraph as a list of edges and $\\theta_{ij}$ is an angular distance between particles. Here we use $\\theta_{ij} = (2 n_i^\\mu n_{j\\mu})^{\\beta/2}$.\n",
    "\n",
    "Below, we compute an EFP in the standard way and using contractions of EFMs. EnergyFlow will do this for you automatically if you use EFPs with the `hadrefm` or `eeefm` measure!"
   ]
  },
  {
   "cell_type": "code",
   "execution_count": 3,
   "metadata": {},
   "outputs": [
    {
     "name": "stdout",
     "output_type": "stream",
     "text": [
      "[[ 3.36864801 -0.37543981 -0.07672024 -0.01552002]\n",
      " [-0.37543981  0.90235865  0.06150039 -0.12656877]\n",
      " [-0.07672024  0.06150039  1.09764135  0.00562418]\n",
      " [-0.01552002 -0.12656877  0.00562418  1.36864801]]\n"
     ]
    }
   ],
   "source": [
    "# generate a random event\n",
    "event = ef.gen_random_events(1, 25, dim=4)\n",
    "\n",
    "# the metric\n",
    "metric = np.diag([1,-1,-1,-1])\n",
    "\n",
    "# compute several energy flow moments\n",
    "EFM2 = ef.EFM(2, measure='hadrefm', coords='epxpypz')(event)\n",
    "EFM3 = ef.EFM(3, measure='hadrefm', coords='epxpypz')(event)\n",
    "\n",
    "# take a look at the EFM Imunu\n",
    "print(EFM2)"
   ]
  },
  {
   "cell_type": "code",
   "execution_count": 4,
   "metadata": {},
   "outputs": [
    {
     "name": "stdout",
     "output_type": "stream",
     "text": [
      "-1.1368683772161603e-13\n",
      "-2.8421709430404007e-13\n"
     ]
    }
   ],
   "source": [
    "# compute the EFP corresponding to the \"icecreamcone\" graph in the usual way\n",
    "EFP_correlator = ef.EFP([(0,1),(0,1),(0,2),(1,2)], measure='hadrdot', coords='epxpypz', beta=2)(event)\n",
    "\n",
    "# compute the EFP corresponding to \"icecreamcone\" as a contraction of EFMs with the metric\n",
    "EFP_contraction = np.einsum('abc,def,gh,ad,be,cg,fh->', EFM3, EFM3, EFM2, *([metric]*4))\n",
    "\n",
    "# compute the EFP corresponding to \"icecreamcone\" with explicit sums\n",
    "pTs = np.sqrt(event[:,1]**2 + event[:,2]**2)\n",
    "zs, ns = pTs/np.sum(pTs), (event/pTs[:,np.newaxis])\n",
    "thetas = np.asarray([[np.sum(2*ni*nj*np.asarray([1,-1,-1,-1])) for ni in ns] for nj in ns])\n",
    "\n",
    "EFP_sums = 0\n",
    "for i in range(len(event)):\n",
    "    for j in range(len(event)):\n",
    "        for k in range(len(event)):\n",
    "            EFP_sums += zs[i] * zs[j] * zs[k] * thetas[i,j] * thetas[i,j] * thetas[i,k] * thetas[j,k]\n",
    "\n",
    "# ensure that the two values agree\n",
    "print(EFP_correlator - EFP_contraction)\n",
    "print(EFP_correlator - EFP_sums)"
   ]
  },
  {
   "cell_type": "markdown",
   "metadata": {},
   "source": [
    "### Fast Computation of Multi-Prong Taggers\n",
    "The $C_N$ family of $N$-prong taggers was introduced in [1305.0007](https://arxiv.org/abs/1305.0007) built from multiparticle correlators as:\n",
    "$$C_1 = \\sum_{i=1}^M \\sum_{j=1}^M z_i z_j \\theta_{ij}$$\n",
    "$$C_2 = \\frac{\\left(\\sum_{i=1}^M \\sum_{j=1}^M\\sum_{k=1}^M z_i z_j z_k \\theta_{ij}\\theta_{jk}\\theta_{ik}\\right)}{\\left(\\sum_{i=1}^M \\sum_{j=1}^M z_i z_j \\theta_{ij}\\right)^2}$$\n",
    "$$C_3 = \\frac{\\left(\\sum_{i=1}^M \\sum_{j=1}^M\\sum_{k=1}^M \\sum_{\\ell=1}^M z_i z_j z_k z_\\ell \\theta_{ij}\\theta_{ik}\\theta_{i\\ell}\\theta_{jk}\\theta_{j\\ell}\\theta_{k\\ell}\\right)\\left(\\sum_{i=1}^M \\sum_{j=1}^M z_i z_j \\theta_{ij}\\right)}{\\left(\\sum_{i=1}^M \\sum_{j=1}^M\\sum_{k=1}^M z_i z_j z_k \\theta_{ij}\\theta_{jk}\\theta_{ik}\\right)^2}$$\n",
    "where $z_i = p_{T,i}/\\sum_{j=1}^M p_{T,j}$. Here we use $\\theta_{ij} = (2p_i^\\mu p_{j\\mu}/p_{T,i} p_{T,j})^{\\beta/2}$, though the speedups also apply when $\\theta_{ij}$ is the rapidity-azimuth distance (squared).\n",
    "\n",
    "Further, the $D_2$ two-prong tagger was introduced in [1409.6298](https://arxiv.org/abs/1409.6298) and defined as:\n",
    "$$D_2 = \\frac{\\left(\\sum_{i=1}^M \\sum_{j=1}^M\\sum_{k=1}^M z_i z_j z_k \\theta_{ij}\\theta_{jk}\\theta_{ik}\\right)}{\\left(\\sum_{i=1}^M \\sum_{j=1}^M z_i z_j \\theta_{ij}\\right)^3}$$\n",
    "\n",
    "With $\\beta=2$, we will demonstrate that $C_N$, which is naively $\\mathcal O(M^{N+1})$ to compute, can actually be computed in $\\mathcal O(M)$. Similarly, $D_2$, which is naively $\\mathcal O(M^3)$ to compute, can be computed in $\\mathcal O(M)$ as well.\n",
    "\n",
    "Below, we time the $\\mathcal O(M)$ computation of these observables via EFM computation of EFPs using the `hadrdot` measure. You can see the asymptotic linear scaling being achieved, far outpacing the naive computation of these observables."
   ]
  },
  {
   "cell_type": "code",
   "execution_count": 5,
   "metadata": {},
   "outputs": [
    {
     "data": {
      "image/png": "[encoded data removed]",
      "text/plain": [
       "<Figure size 480x480 with 1 Axes>"
      ]
     },
     "metadata": {
      "image/png": {
       "height": 434,
       "width": 465
      }
     },
     "output_type": "display_data"
    }
   ],
   "source": [
    "# specify the relevant graphs and EFPs to compute C1, D2, C3\n",
    "line = ef.EFP([(0,1)], measure='hadrefm', coords='epxpypz', beta=2)\n",
    "triangle = ef.EFP([(0,1), (0,2), (1,2)], measure='hadrefm', coords='epxpypz', beta=2)\n",
    "kite = ef.EFP([(0,1), (0,2), (0,3), (1,2), (1,3), (2,3)], measure='hadrefm', coords='epxpypz', beta=2)\n",
    "\n",
    "# which numbers of particles to evaluate the observables for\n",
    "Ms = 2**np.arange(8,20)\n",
    "C1_times, D2_times, C3_times = [], [] ,[]\n",
    "\n",
    "# compute the observables for each M. This can be repeated for a more robust estimate\n",
    "for M in Ms:\n",
    "    # generate a random event with M particles\n",
    "    event = ef.gen_random_events(1, M, dim=4)\n",
    "\n",
    "    # time the computation of C1\n",
    "    start = time.time()\n",
    "    C1 = line(event)\n",
    "    C1_times.append(time.time()-start)\n",
    "    \n",
    "    # time the computation of D2\n",
    "    start = time.time()\n",
    "    D2 = triangle(event)/line(event)**3\n",
    "    D2_times.append(time.time()-start)\n",
    "    \n",
    "    # time the comuputation of C3\n",
    "    start = time.time()\n",
    "    C3 = kite(event)*line(event)/triangle(event)**2\n",
    "    C3_times.append(time.time()-start)\n",
    "    \n",
    "\n",
    "# plot the results\n",
    "plt.plot(Ms, C3_times, '-o', label='C3 with EFMs', color='tab:red')\n",
    "plt.plot(Ms, D2_times, '-o', label='D2 with EFMs', color='tab:green')\n",
    "plt.plot(Ms, C1_times, '-o', label='C1 with EFMs', color='tab:blue')\n",
    "\n",
    "# plot settings\n",
    "plt.xscale('log')\n",
    "plt.yscale('log')\n",
    "plt.legend(loc='upper left', frameon=False)\n",
    "plt.xlabel('Number of Particles')\n",
    "plt.ylabel('Computation Time [s]')\n",
    "plt.show()"
   ]
  },
  {
   "cell_type": "markdown",
   "metadata": {},
   "source": [
    "## Linear Relations\n",
    "When the number of particles or spacetime dimensions is \"small\", linear relationships among the EFPs emerge. These can best be understood in the language of EFMs and other moment structures.\n",
    "\n",
    "Here, we numerically illustrate the identities proved in the paper. To begin, we enumerate every relevant multigraph that we will need."
   ]
  },
  {
   "cell_type": "code",
   "execution_count": 6,
   "metadata": {},
   "outputs": [],
   "source": [
    "graphs ={# d=0\n",
    "        'dot': [],\n",
    "\n",
    "        # d=1\n",
    "        'line': [(0,1)],\n",
    "\n",
    "        # d=2\n",
    "        'dumbbell': [(0,1), (0,1)],\n",
    "        'wedge': [(0,1),(1,2)],\n",
    "        'linesqd' : [(0,1),(2,3)],\n",
    "\n",
    "        # d = 3\n",
    "        'tribell' : [(0,1),(0,1),(0,1)],\n",
    "        'triangle' : [(0,1),(1,2),(2,0)],\n",
    "        'asymwedge' : [(0,1),(0,1),(1,2)],\n",
    "        'birdfoot' : [(0,1),(0,2),(0,3)],\n",
    "        'chain' : [(0,1),(1,2),(2,3)],\n",
    "        'linedumbbell' : [(0,1),(2,3),(2,3)],\n",
    "        'linewedge' : [(0,1),(2,3),(3,4)],\n",
    "        'linecbd'  : [(0,1),(2,3),(4,5)],\n",
    "\n",
    "        # d = 4\n",
    "        'quadbell' : [(0,1),(0,1),(0,1),(0,1)],\n",
    "        'doublewedge' : [(0,1),(0,1),(1,2),(1,2)],\n",
    "        'icecreamcone' : [(0,1),(0,1),(1,2),(2,0)],\n",
    "        'asymwedge2' : [(0,1),(0,1),(0,1),(1,2)],\n",
    "        'square' : [(0,1),(1,2),(2,3),(3,0)],\n",
    "        'flyswatter' : [(0,1),(1,2),(2,3),(3,1)],\n",
    "        'chain2mid' : [(0,1),(1,2),(1,2),(2,3)],\n",
    "        'chain2end' : [(0,1),(1,2),(2,3),(2,3)],\n",
    "        'asymbirdfoot' : [(0,1),(0,1),(1,2),(1,3)],\n",
    "        'bigbirdfoot' : [(0,1),(0,2),(0,3),(0,4)],\n",
    "        'dog' : [(0,1),(1,2),(2,3),(2,4)],\n",
    "        'bigchain' : [(0,1),(1,2),(2,3),(3,4)],\n",
    "\n",
    "        'dumbbellwedge' : [(0,1),(0,1),(2,3),(3,4)],\n",
    "        'triangleline' : [(0,1),(1,2),(2,0),(3,4)],\n",
    "        'dumbbellsqd' : [(0,1),(0,1),(2,3),(2,3)],\n",
    "\n",
    "        # d = 5\n",
    "        'pentagon' : [(0,1),(1,2),(2,3),(3,4),(4,0)],\n",
    "        'triangledumbbell': [(0,1),(0,1),(2,3),(3,4),(4,2)]\n",
    "        }"
   ]
  },
  {
   "cell_type": "markdown",
   "metadata": {},
   "source": [
    "### Finite Particle Relations\n",
    "\n",
    "When the number of particles in the event is small, a number of linear relations among the EFPs emerge due to the simplified nature of the configuration. The typical example of this is that \"triangle\" or ECF3 vanishes for $M=2$ particles. There is an entire family of these relations, which we check below for $M=2$.\n",
    "\n",
    "These identities hold for EFPs with any choice of $\\beta$ or angular measure $\\theta_{ij}$.\n",
    "Play around with the coefficients to see that these identies are non-trivial!"
   ]
  },
  {
   "cell_type": "code",
   "execution_count": 7,
   "metadata": {},
   "outputs": [
    {
     "name": "stdout",
     "output_type": "stream",
     "text": [
      "0.0\n",
      "0.0\n",
      "1.7763568394002505e-15\n",
      "0.0\n",
      "0.0\n"
     ]
    }
   ],
   "source": [
    "# pick a random event with 2 particles\n",
    "event = ef.gen_random_events(1, 2, dim=4)\n",
    "\n",
    "# compute the value of all of the EFPs on this event\n",
    "d = {name: ef.EFP(graph, measure='hadr', coords='epxpypz', beta=1)(event) for name,graph in graphs.items()}\n",
    "\n",
    "# check that the identities in the paper are valid (i.e. = 0)\n",
    "print(2 * d['wedge'] - d['dumbbell'])\n",
    "print(2 * d['triangle'])\n",
    "print(d['tribell'] - 2 * d['asymwedge'])\n",
    "print(2 * d['chain'] - d['linedumbbell'] - d['triangle'])\n",
    "print(d['birdfoot'] + d['chain'] - d['asymwedge'])"
   ]
  },
  {
   "cell_type": "markdown",
   "metadata": {},
   "source": [
    "### Finite Dimension Relations\n",
    "As the number of spacetime dimensions is finite (e.g. 4), the inner product structure of $\\theta_{ij} = n_i^\\mu n_{j\\mu}$ for $\\beta=2$ EFPs gives rise to additional identities.\n",
    "\n",
    "These identities hold for EFPs with $\\beta=2$ when $\\theta_{ij}$ is an inner product. Play around with the coefficients to see that these identies are non-trivial!"
   ]
  },
  {
   "cell_type": "code",
   "execution_count": 8,
   "metadata": {},
   "outputs": [
    {
     "name": "stdout",
     "output_type": "stream",
     "text": [
      "0.0\n"
     ]
    }
   ],
   "source": [
    "# Three Dimensions\n",
    "# pick a random event in 3 dimensions\n",
    "event = ef.gen_random_events(1, 25, dim=3)\n",
    "\n",
    "# get the transverse momenta and pairwise distances for the event\n",
    "pTs = np.sqrt(event[:,1]**2 + event[:,2]**2)\n",
    "zs, ns = pTs/np.sum(pTs), (event/pTs[:,np.newaxis])\n",
    "thetas = np.asarray([[np.sum(2*ni*nj*np.asarray([1]+[-1]*(len(ni)-1))) for ni in ns] for nj in ns])\n",
    "\n",
    "# compute the value of all of the EFPs on this event\n",
    "d = {name: ef.EFP(graph)(zs=zs, thetas=thetas) for name,graph in graphs.items()}\n",
    "\n",
    "# check that the identity in the paper is valid (i.e. = 0)\n",
    "print(6*d['bigchain']-12*d['chain']+6*d['linedumbbell']+4*d['triangle']-2*d['triangleline']-3*d['dumbbellwedge'])"
   ]
  },
  {
   "cell_type": "code",
   "execution_count": 9,
   "metadata": {},
   "outputs": [
    {
     "name": "stdout",
     "output_type": "stream",
     "text": [
      "2.7284841053187847e-12\n"
     ]
    }
   ],
   "source": [
    "# Four Dimensions\n",
    "# pick a random event in 4 dimensions\n",
    "event = ef.gen_random_events(1, 25, dim=4)\n",
    "\n",
    "# get the transverse momenta and pairwise distances for the event\n",
    "pTs = np.sqrt(event[:,1]**2 + event[:,2]**2)\n",
    "zs, ns = pTs/np.sum(pTs), (event/pTs[:,np.newaxis])\n",
    "thetas = np.asarray([[np.sum(2*ni*nj*np.asarray([1]+[-1]*(len(ni)-1))) for ni in ns] for nj in ns])\n",
    "\n",
    "# compute the value of all of the EFPs on this event\n",
    "d = {name: ef.EFP(graph)(zs=zs, thetas=thetas) for name,graph in graphs.items()}\n",
    "\n",
    "# check that the identity in the paper is valid (i.e. = 0)\n",
    "print(6*d['pentagon']-5*d['triangledumbbell'])"
   ]
  },
  {
   "cell_type": "markdown",
   "metadata": {},
   "source": [
    "### Center of Momentum Relations\n",
    "\n",
    "For kinematic polynomials or $\\beta=2$ EFPs in $e^+e^-$ collisions, additional relations emerge when working in the center of momentum.\n",
    "\n",
    "Correlators which correspond to multigraphs with \"leaves\", i.e valency-1 vertices, are no longer independent. Further, counting the number of leafless multigraphs also counts the number of independent kinematic polynomials.\n",
    "\n",
    "Here we count the multigraphs with up to 10 edges for connected and all multigraphs. Going further requires specialized graph packages such as Nauty. The sequences up to 16 edges have been added to the Online-Encyclopedia of Integer Sequences as [A307316](https://oeis.org/A307316) and [A307317](https://oeis.org/A307317)."
   ]
  },
  {
   "cell_type": "code",
   "execution_count": 10,
   "metadata": {},
   "outputs": [],
   "source": [
    "# function to check if a graph is leafless (i.e. has no valency-1 vertices)\n",
    "def leafless(graph):\n",
    "    return not 1 in np.unique(graph, return_counts=True)[1]\n",
    "\n",
    "# count the number of leafless multigraphs (all or just connected) with degree d\n",
    "ds = np.arange(11)\n",
    "counts_all, counts_con = [], []\n",
    "\n",
    "# for each degree, get the graphs with edges<=d and check whether they are leafless\n",
    "for d in ds:\n",
    "    counts_all.append(np.sum([leafless(graph) for graph in ef.EFPSet(('d<=',d)).graphs()]))\n",
    "    counts_con.append(np.sum([leafless(graph) for graph in ef.EFPSet(('d<=',d), ('p==',1)).graphs()]))\n",
    "\n",
    "# note: computed counts are cumulative, must take the difference to get individual d    \n",
    "counts_all = np.asarray(counts_all[1:]) - np.asarray(counts_all[:-1])\n",
    "counts_con = np.asarray(counts_con[1:]) - np.asarray(counts_con[:-1])"
   ]
  },
  {
   "cell_type": "code",
   "execution_count": 11,
   "metadata": {},
   "outputs": [
    {
     "name": "stdout",
     "output_type": "stream",
     "text": [
      "Counting Multigraphs\n",
      "Edges   Num. Connected & Leafless   Num. Leafless\n",
      "   1       0                           0\n",
      "   2       1                           1\n",
      "   3       2                           2\n",
      "   4       4                           5\n",
      "   5       9                          11\n",
      "   6      26                          34\n",
      "   7      68                          87\n",
      "   8     217                         279\n",
      "   9     718                         897\n",
      "  10    2553                        3129\n"
     ]
    }
   ],
   "source": [
    "# display the results in a table\n",
    "print(\"Counting Multigraphs\")\n",
    "print(\"Edges\", \"  Num. Connected & Leafless\", \"  Num. Leafless\")\n",
    "for d, count_con, count_all in zip(ds[1:], counts_con, counts_all):\n",
    "    print(\"{:4g}    {:4g}                        {:4g}\".format(d, count_con, count_all))"
   ]
  },
  {
   "cell_type": "markdown",
   "metadata": {},
   "source": [
    "### Euclidean Slicing Relations\n",
    "When using the $\\beta=2$ EFPs for $e^+e^-$ collisions, there is an interesting correspondence between the EFMs and generalized sphericity tensors:\n",
    "$$\\Theta^{j_1j_2\\cdots j_v} \\equiv \\sum_{i=1}^M E_i \\hat n_i^{j_1}\\hat n_i^{j_2}\\cdots \\hat n_i^{j_v},\\,\\,\\,\\,\\,\\,\\, \\hat n_i \\equiv \\vec p/E.$$\n",
    "\n",
    "In particular, the spatial components of the EFMs are precisely the sphericity tensors. For instance:\n",
    "$$\\mathcal I^{j_1j_2} = 2\\Theta^{j_1j_2}.$$\n",
    "\n",
    "Polynomials obtained by contracting the generalized sphericity tensors are interesting objects, closely related to famous event shapes such as the $C$ and $D$ parameters. The relationship between $\\Theta$ and $\\mathcal I$ induces a close relationship between these polynomials and the EFPs.\n",
    "\n",
    "Here, we showcase a translation table between the sphericity polynomials and EFPs for graphs of degree up to 4. Play with the coefficients in the table to see that these relationships are nontrivial!"
   ]
  },
  {
   "cell_type": "code",
   "execution_count": 12,
   "metadata": {},
   "outputs": [],
   "source": [
    "# function to compute the \"euclidean\" (i.e. sphericity) polynomial of a graph using EFPs\n",
    "def euc(efp, event):\n",
    "    l = list(range(event.shape[1])) + [0]\n",
    "    return (-1)**efp.d * efp(event[:,l])\n",
    "\n",
    "# specify the desired graphs, here all graphs up to d<=3 and all connected graphs with d=4\n",
    "gnames = [# d=0\n",
    "          'dot',\n",
    "          # d = 1\n",
    "          'line',\n",
    "          # d = 2\n",
    "          'dumbbell', 'wedge', 'linesqd',\n",
    "          # d = 3\n",
    "          'tribell', 'triangle', 'asymwedge', 'birdfoot', 'chain', 'linedumbbell', 'linewedge', 'linecbd',\n",
    "          # d = 4 (connected)\n",
    "          'quadbell', 'doublewedge', 'icecreamcone', 'asymwedge2', 'square', 'flyswatter',\n",
    "          'chain2mid', 'chain2end', 'asymbirdfoot', 'bigbirdfoot', 'dog', 'bigchain']\n",
    "\n",
    "# take the entire translation matrix from sphericity polynomials to EFPs from the paepr\n",
    "M = np.asarray([\n",
    "    [1,   0,  0, 0,   0, 0, 0, 0, 0, 0, 0, 0, 0, 0, 0, 0, 0, 0, 0, 0, 0, 0, 0, 0, 0],\n",
    "    [2,  -1,  0, 0,   0, 0, 0, 0, 0, 0, 0, 0, 0, 0, 0, 0, 0, 0, 0, 0, 0, 0, 0, 0, 0],\n",
    "    [4,  -4,  1, 0,   0, 0, 0, 0, 0, 0, 0, 0, 0, 0, 0, 0, 0, 0, 0, 0, 0, 0, 0, 0, 0],\n",
    "    [4,  -4,  0, 1,   0, 0, 0, 0, 0, 0, 0, 0, 0, 0, 0, 0, 0, 0, 0, 0, 0, 0, 0, 0, 0],\n",
    "    [4,  -4,  0, 0,   1, 0, 0, 0, 0, 0, 0, 0, 0, 0, 0, 0, 0, 0, 0, 0, 0, 0, 0, 0, 0],\n",
    "    [8, -12,  6, 0,   0,-1, 0, 0, 0, 0, 0, 0, 0, 0, 0, 0, 0, 0, 0, 0, 0, 0, 0, 0, 0],\n",
    "    [8, -12,  0, 6,   0, 0,-1, 0, 0, 0, 0, 0, 0, 0, 0, 0, 0, 0, 0, 0, 0, 0, 0, 0, 0],\n",
    "    [8, -12,  2, 4,   0, 0, 0,-1, 0, 0, 0, 0, 0, 0, 0, 0, 0, 0, 0, 0, 0, 0, 0, 0, 0],\n",
    "    [8, -12,  0, 6,   0, 0, 0, 0,-1, 0, 0, 0, 0, 0, 0, 0, 0, 0, 0, 0, 0, 0, 0, 0, 0],\n",
    "    [8, -12,  0, 4,   2, 0, 0, 0, 0,-1, 0, 0, 0, 0, 0, 0, 0, 0, 0, 0, 0, 0, 0, 0, 0],\n",
    "    [8, -12,  2, 0,   4, 0, 0, 0, 0, 0,-1, 0, 0, 0, 0, 0, 0, 0, 0, 0, 0, 0, 0, 0, 0],\n",
    "    [8, -12,  0, 2,   4, 0, 0, 0, 0, 0, 0,-1, 0, 0, 0, 0, 0, 0, 0, 0, 0, 0, 0, 0, 0],\n",
    "    [8, -12,  0, 0,   6, 0, 0, 0, 0, 0, 0, 0,-1, 0, 0, 0, 0, 0, 0, 0, 0, 0, 0, 0, 0],\n",
    "    [16,-32, 24, 0,   0,-8, 0, 0, 0, 0, 0, 0, 0, 1, 0, 0, 0, 0, 0, 0, 0, 0, 0, 0, 0],\n",
    "    [16,-32,  8, 16,  0, 0, 0,-8, 0, 0, 0, 0, 0, 0, 1, 0, 0, 0, 0, 0, 0, 0, 0, 0, 0],\n",
    "    [16,-32,  4, 20,  0, 0,-4,-4, 0, 0, 0, 0, 0, 0, 0, 1, 0, 0, 0, 0, 0, 0, 0, 0, 0],\n",
    "    [16,-32, 12, 12,  0,-2, 0,-6, 0, 0, 0, 0, 0, 0, 0, 0, 1, 0, 0, 0, 0, 0, 0, 0, 0],\n",
    "    [16,-32,  0, 16,  8, 0, 0, 0, 0,-8, 0, 0, 0, 0, 0, 0, 0, 1, 0, 0, 0, 0, 0, 0, 0],\n",
    "    [16,-32,  0, 20,  4, 0,-2, 0,-2,-4, 0, 0, 0, 0, 0, 0, 0, 0, 1, 0, 0, 0, 0, 0, 0],\n",
    "    [16,-32,  4, 16,  4, 0, 0,-4, 0,-4, 0, 0, 0, 0, 0, 0, 0, 0, 0, 1, 0, 0, 0, 0, 0],\n",
    "    [16,-32,  4, 12,  8, 0, 0,-2, 0,-4,-2, 0, 0, 0, 0, 0, 0, 0, 0, 0, 1, 0, 0, 0, 0],\n",
    "    [16,-32,  4, 20,  0, 0, 0,-4,-4, 0, 0, 0, 0, 0, 0, 0, 0, 0, 0, 0, 0, 1, 0, 0, 0],\n",
    "    [16,-32,  0, 24,  0, 0, 0, 0,-8, 0, 0, 0, 0, 0, 0, 0, 0, 0, 0, 0, 0, 0, 1, 0, 0],\n",
    "    [16,-32,  0, 16,  8, 0, 0, 0,-2,-4, 0,-2, 0, 0, 0, 0, 0, 0, 0, 0, 0, 0, 0, 1, 0],\n",
    "    [16,-32,  0, 12, 12, 0, 0, 0, 0,-4, 0,-4, 0, 0, 0, 0, 0, 0, 0, 0, 0, 0, 0, 0, 1],\n",
    "])"
   ]
  },
  {
   "cell_type": "code",
   "execution_count": 13,
   "metadata": {},
   "outputs": [
    {
     "name": "stdout",
     "output_type": "stream",
     "text": [
      "[ 0.00000000e+00  4.44089210e-16  1.77635684e-15  8.88178420e-16\n",
      "  1.77635684e-15  1.06581410e-14  8.88178420e-16  3.55271368e-15\n",
      "  4.44089210e-15  1.77635684e-15  5.32907052e-15  3.55271368e-15\n",
      "  4.44089210e-15 -2.13162821e-14  1.42108547e-14  1.59872116e-14\n",
      "  2.84217094e-14  3.55271368e-15  8.88178420e-15  7.10542736e-15\n",
      "  1.77635684e-14  2.13162821e-14  8.88178420e-15  1.59872116e-14\n",
      "  5.32907052e-15]\n",
      "2.842170943040401e-14\n"
     ]
    }
   ],
   "source": [
    "# generate a random event\n",
    "event = ef.gen_random_events(1, 25, dim=4)\n",
    "\n",
    "# compute the EFPs and Sphericity polynomials\n",
    "efps = [ef.EFP(graphs[name], coords='epxpypz', measure='eeefm', beta=2)(event) for name in gnames]\n",
    "eucs = [euc(ef.EFP(graphs[name], coords='epxpypz', measure='eeefm', beta=2),event) for name in gnames]\n",
    "\n",
    "# convert the results to numpy arrays\n",
    "efps, eucs = np.asarray(efps), np.asarray(eucs)\n",
    "\n",
    "# check that all of the relationships are valid (i.e. = 0)\n",
    "print(efps - np.dot(M,eucs))\n",
    "print(np.max(efps - np.dot(M,eucs)))"
   ]
  },
  {
   "cell_type": "markdown",
   "metadata": {},
   "source": [
    "Now let's explore the relationship between the $C$ and $D$ parameters, sphericity polynomials, and the EFPs. We can write the $C$ and $D$ parameters as contractions of the sphericity tensors.\n",
    "\n",
    "We also use our table above to translate these into linear combinations of EFPs."
   ]
  },
  {
   "cell_type": "code",
   "execution_count": 14,
   "metadata": {},
   "outputs": [
    {
     "name": "stdout",
     "output_type": "stream",
     "text": [
      "0.0\n",
      "-1.6653345369377348e-15\n",
      "[ 1.5   -0.375] ['line' 'dumbbell']\n",
      "[-3.375  6.75  -1.125] ['dumbbell' 'wedge' 'triangle']\n"
     ]
    }
   ],
   "source": [
    "# generate a random event\n",
    "event = ef.gen_random_events(1, 25, dim=4)\n",
    "\n",
    "# get the theta matrix\n",
    "theta = ef.EFM(2, measure='eeefm')(event)[1:,1:]/2\n",
    "\n",
    "# compute the C and D parameters\n",
    "C = 3/2 * (np.trace(theta)**2 - np.trace(np.dot(theta,theta)))\n",
    "D = 27 * np.linalg.det(theta)\n",
    "\n",
    "# compute some sphericity polynomials\n",
    "euc_dumbbell = euc(ef.EFP(graphs['dumbbell'], coords='epxpypz', measure='eeefm', beta=2),event)\n",
    "euc_triangle = euc(ef.EFP(graphs['triangle'], coords='epxpypz', measure='eeefm', beta=2),event)\n",
    "\n",
    "# check the graphical expressions for the C and D parameters (i.e. difference = 0)\n",
    "print(-3/8 * euc_dumbbell + 3/2 - C)\n",
    "print(9/8 * euc_triangle - 27/8 * euc_dumbbell + 9/2 - D)\n",
    "\n",
    "# we can also translate these into linear combinations of EFPs as follows\n",
    "vec = np.dot(M[:3,:3].T, np.asarray([3/2, 0, -3/8]))\n",
    "print(vec[vec!=0], np.asarray(gnames[:3])[vec!=0])\n",
    "\n",
    "vec = np.dot(M[:7,:7].T, np.asarray([9/2, 0, -27/8, 0, 0, 0, 9/8]))\n",
    "print(vec[vec!=0], np.asarray(gnames[:7])[vec!=0])"
   ]
  },
  {
   "cell_type": "markdown",
   "metadata": {},
   "source": [
    "Finally, since the generalized sphericity tensors live in 3 spacetime dimensions, they are sensitive to three-dimensional finite dimension identities. These can be obtained using our usual techniques and then translated to relations among EFPs using our table."
   ]
  },
  {
   "cell_type": "code",
   "execution_count": 15,
   "metadata": {},
   "outputs": [
    {
     "name": "stdout",
     "output_type": "stream",
     "text": [
      "0.0\n",
      "0.0\n",
      "5.684341886080802e-14\n",
      "-1.4210854715202004e-14\n"
     ]
    }
   ],
   "source": [
    "# generate a random event\n",
    "event = ef.gen_random_events(1, 25, dim=4)\n",
    "\n",
    "# compute some sphericity polynomials\n",
    "euc_line          = euc(ef.EFP(graphs['line'],          coords='epxpypz', measure='eeefm', beta=2),event)\n",
    "euc_dumbbell      = euc(ef.EFP(graphs['dumbbell'],      coords='epxpypz', measure='eeefm', beta=2),event)\n",
    "euc_wedge         = euc(ef.EFP(graphs['wedge'],         coords='epxpypz', measure='eeefm', beta=2),event)\n",
    "euc_triangle      = euc(ef.EFP(graphs['triangle'],      coords='epxpypz', measure='eeefm', beta=2),event)\n",
    "euc_linedumbbell  = euc(ef.EFP(graphs['linedumbbell'],  coords='epxpypz', measure='eeefm', beta=2),event)\n",
    "euc_square        = euc(ef.EFP(graphs['square'],        coords='epxpypz', measure='eeefm', beta=2),event)\n",
    "euc_dumbbellsqd   = euc(ef.EFP(graphs['dumbbellsqd'],   coords='epxpypz', measure='eeefm', beta=2),event)\n",
    "euc_dumbbellwedge = euc(ef.EFP(graphs['dumbbellwedge'], coords='epxpypz', measure='eeefm', beta=2),event)\n",
    "euc_triangleline  = euc(ef.EFP(graphs['triangleline'],  coords='epxpypz', measure='eeefm', beta=2),event)\n",
    "euc_chain         = euc(ef.EFP(graphs['chain'],         coords='epxpypz', measure='eeefm', beta=2),event)\n",
    "euc_bigchain      = euc(ef.EFP(graphs['bigchain'],      coords='epxpypz', measure='eeefm', beta=2),event)\n",
    "\n",
    "# verify the euclidean finite dimension (= 3) relations\n",
    "print(6*euc_square - 16*euc_triangle - 3*euc_dumbbellsqd + 24*euc_dumbbell - 16)\n",
    "print(6*euc_bigchain - 12*euc_chain - 3*euc_dumbbellwedge - 2*euc_triangleline\n",
    "      + 12*euc_wedge + 6*euc_linedumbbell - 8*euc_line)\n",
    "\n",
    "\n",
    "# compute some EFPs\n",
    "line          = ef.EFP(graphs['line'],          coords='epxpypz', measure='eeefm', beta=2)(event)\n",
    "dumbbell      = ef.EFP(graphs['dumbbell'],      coords='epxpypz', measure='eeefm', beta=2)(event)\n",
    "wedge         = ef.EFP(graphs['wedge'],         coords='epxpypz', measure='eeefm', beta=2)(event)\n",
    "triangle      = ef.EFP(graphs['triangle'],      coords='epxpypz', measure='eeefm', beta=2)(event)\n",
    "linedumbbell  = ef.EFP(graphs['linedumbbell'],  coords='epxpypz', measure='eeefm', beta=2)(event)\n",
    "square        = ef.EFP(graphs['square'],        coords='epxpypz', measure='eeefm', beta=2)(event)\n",
    "dumbbellsqd   = ef.EFP(graphs['dumbbellsqd'],   coords='epxpypz', measure='eeefm', beta=2)(event)\n",
    "dumbbellwedge = ef.EFP(graphs['dumbbellwedge'], coords='epxpypz', measure='eeefm', beta=2)(event)\n",
    "triangleline  = ef.EFP(graphs['triangleline'],  coords='epxpypz', measure='eeefm', beta=2)(event)\n",
    "chain         = ef.EFP(graphs['chain'],         coords='epxpypz', measure='eeefm', beta=2)(event)\n",
    "bigchain      = ef.EFP(graphs['bigchain'],      coords='epxpypz', measure='eeefm', beta=2)(event)\n",
    "\n",
    "# verify the induced EFP subslicing relations\n",
    "print(6*square + 16*triangle - 3*dumbbellsqd - 48*chain + 24*linedumbbell)\n",
    "print(6*bigchain - 12*chain - 3*dumbbellwedge - 2*triangleline + 4*triangle + 6*linedumbbell)"
   ]
  }
 ],
 "metadata": {
  "kernelspec": {
   "display_name": "Python 3",
   "language": "python",
   "name": "python3"
  },
  "language_info": {
   "codemirror_mode": {
    "name": "ipython",
    "version": 3
   },
   "file_extension": ".py",
   "mimetype": "text/x-python",
   "name": "python",
   "nbconvert_exporter": "python",
   "pygments_lexer": "ipython3",
   "version": "3.8.5"
  }
 },
 "nbformat": 4,
 "nbformat_minor": 2
}
